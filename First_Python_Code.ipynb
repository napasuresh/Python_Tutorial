{
  "nbformat": 4,
  "nbformat_minor": 0,
  "metadata": {
    "colab": {
      "name": "First -Python-Code.ipynb",
      "provenance": [],
      "collapsed_sections": [],
      "authorship_tag": "ABX9TyPzr+iafPGLc6pB2A8GP+Yx",
      "include_colab_link": true
    },
    "kernelspec": {
      "name": "python3",
      "display_name": "Python 3"
    },
    "language_info": {
      "name": "python"
    }
  },
  "cells": [
    {
      "cell_type": "markdown",
      "metadata": {
        "id": "view-in-github",
        "colab_type": "text"
      },
      "source": [
        "<a href=\"https://colab.research.google.com/github/napasuresh/Python_Tutorial/blob/master/First_Python_Code.ipynb\" target=\"_parent\"><img src=\"https://colab.research.google.com/assets/colab-badge.svg\" alt=\"Open In Colab\"/></a>"
      ]
    },
    {
      "cell_type": "code",
      "execution_count": 10,
      "metadata": {
        "colab": {
          "base_uri": "https://localhost:8080/"
        },
        "id": "qWSndwmn1JVf",
        "outputId": "82f164ef-7210-4bef-b429-b9f7950d36e4"
      },
      "outputs": [
        {
          "output_type": "stream",
          "name": "stdout",
          "text": [
            "Hellow, Greetings!\n",
            "My name is Suresh I am 52 years of Age\n",
            "How are you?\n",
            "Hellow, Greetings!\n",
            "How are you?\n",
            "This is Suresh Napa from Hyderabad\n",
            "I am looking for a new domain opportunity\n",
            "This is Suresh Napa from Hyderabad. \n",
            " I am looking for a new domain opportunity\n"
          ]
        }
      ],
      "source": [
        "print(\"Hellow, Greetings!\")\n",
        "print(\"My name is Suresh I am 52 years of Age\")\n",
        "print (\"How are you?\")\n",
        "print (\"Hellow, Greetings!\")\n",
        "print (\"How are you?\")\n",
        "\n",
        "print (\"This is Suresh Napa from Hyderabad\")\n",
        "print (\"I am looking for a new domain opportunity\")\n",
        "\n",
        "print (\"This is Suresh Napa from Hyderabad. \\n I am looking for a new domain opportunity\")"
      ]
    },
    {
      "cell_type": "code",
      "source": [
        "print (\"My name is Suresh Napa\")"
      ],
      "metadata": {
        "colab": {
          "base_uri": "https://localhost:8080/"
        },
        "id": "LY0eXK8UrfV0",
        "outputId": "34829253-ab76-430e-8c9d-5eb2d56a7a01"
      },
      "execution_count": 11,
      "outputs": [
        {
          "output_type": "stream",
          "name": "stdout",
          "text": [
            "My name is Suresh Napa\n"
          ]
        }
      ]
    },
    {
      "cell_type": "markdown",
      "source": [
        "Writing my first code , I hope this journey is awesome!"
      ],
      "metadata": {
        "id": "ki7epNE3om90"
      }
    },
    {
      "cell_type": "code",
      "source": [
        "print (\"My name is Suresh        Napa\")"
      ],
      "metadata": {
        "colab": {
          "base_uri": "https://localhost:8080/"
        },
        "id": "iSNu1TtIrwEu",
        "outputId": "281f8054-e7c2-4114-c016-40b2fc417694"
      },
      "execution_count": 12,
      "outputs": [
        {
          "output_type": "stream",
          "name": "stdout",
          "text": [
            "My name is Suresh        Napa\n"
          ]
        }
      ]
    },
    {
      "cell_type": "code",
      "source": [
        "print (\"My name is Suresh Napa\")\n",
        "print (\"My name is Suresh Napa\")\n",
        "print (\"My name is Suresh Napa\")\n",
        "print (\"My name is Suresh Napa\")\n",
        "print (\"My name is Suresh Napa\")"
      ],
      "metadata": {
        "colab": {
          "base_uri": "https://localhost:8080/"
        },
        "id": "Q6Dypy8or37T",
        "outputId": "9ba6d86b-822b-46dd-86cd-f1349ec910af"
      },
      "execution_count": 13,
      "outputs": [
        {
          "output_type": "stream",
          "name": "stdout",
          "text": [
            "My name is Suresh Napa\n",
            "My name is Suresh Napa\n",
            "My name is Suresh Napa\n",
            "My name is Suresh Napa\n",
            "My name is Suresh Napa\n"
          ]
        }
      ]
    },
    {
      "cell_type": "markdown",
      "source": [
        ""
      ],
      "metadata": {
        "id": "Dbxp3G3C1VCL"
      }
    },
    {
      "cell_type": "code",
      "source": [
        "print (\"Test duratuion\\nTest duratuion\\nTest duratuion\")"
      ],
      "metadata": {
        "colab": {
          "base_uri": "https://localhost:8080/"
        },
        "id": "4R-oETiasEnG",
        "outputId": "ad5084df-bb51-49c4-8416-8c0340e7071b"
      },
      "execution_count": 14,
      "outputs": [
        {
          "output_type": "stream",
          "name": "stdout",
          "text": [
            "Test duratuion\n",
            "Test duratuion\n",
            "Test duratuion\n"
          ]
        }
      ]
    },
    {
      "cell_type": "code",
      "source": [
        "print(\"Test duration\\n\"*10)"
      ],
      "metadata": {
        "colab": {
          "base_uri": "https://localhost:8080/"
        },
        "id": "dFI9uiu9sZqd",
        "outputId": "b340e05b-94fa-4e27-a5f2-8491772d8ebf"
      },
      "execution_count": 18,
      "outputs": [
        {
          "output_type": "stream",
          "name": "stdout",
          "text": [
            "Test duration\n",
            "Test duration\n",
            "Test duration\n",
            "Test duration\n",
            "Test duration\n",
            "Test duration\n",
            "Test duration\n",
            "Test duration\n",
            "Test duration\n",
            "Test duration\n",
            "\n"
          ]
        }
      ]
    },
    {
      "cell_type": "code",
      "source": [
        "print?"
      ],
      "metadata": {
        "id": "-V09a6Ywso0h"
      },
      "execution_count": 19,
      "outputs": []
    },
    {
      "cell_type": "code",
      "source": [
        "help(print)"
      ],
      "metadata": {
        "colab": {
          "base_uri": "https://localhost:8080/"
        },
        "id": "FVtVrVtptgv3",
        "outputId": "b92a5fa5-0ddd-4ebd-bfbf-70e0851edeec"
      },
      "execution_count": 20,
      "outputs": [
        {
          "output_type": "stream",
          "name": "stdout",
          "text": [
            "Help on built-in function print in module builtins:\n",
            "\n",
            "print(...)\n",
            "    print(value, ..., sep=' ', end='\\n', file=sys.stdout, flush=False)\n",
            "    \n",
            "    Prints the values to a stream, or to sys.stdout by default.\n",
            "    Optional keyword arguments:\n",
            "    file:  a file-like object (stream); defaults to the current sys.stdout.\n",
            "    sep:   string inserted between values, default a space.\n",
            "    end:   string appended after the last value, default a newline.\n",
            "    flush: whether to forcibly flush the stream.\n",
            "\n"
          ]
        }
      ]
    },
    {
      "cell_type": "code",
      "source": [
        "print(\"hey\")"
      ],
      "metadata": {
        "colab": {
          "base_uri": "https://localhost:8080/"
        },
        "id": "33oKwjSOtlrD",
        "outputId": "92df2750-832a-451c-ce91-c497194a94a6"
      },
      "execution_count": 21,
      "outputs": [
        {
          "output_type": "stream",
          "name": "stdout",
          "text": [
            "hey\n"
          ]
        }
      ]
    },
    {
      "cell_type": "code",
      "source": [
        "Print(\"hey\")"
      ],
      "metadata": {
        "colab": {
          "base_uri": "https://localhost:8080/",
          "height": 170
        },
        "id": "WU4Td0qBuKl8",
        "outputId": "0ca10816-9b3f-48fa-f53d-863877dcb81c"
      },
      "execution_count": 22,
      "outputs": [
        {
          "output_type": "error",
          "ename": "NameError",
          "evalue": "ignored",
          "traceback": [
            "\u001b[0;31m---------------------------------------------------------------------------\u001b[0m",
            "\u001b[0;31mNameError\u001b[0m                                 Traceback (most recent call last)",
            "\u001b[0;32m<ipython-input-22-80c8399d56bb>\u001b[0m in \u001b[0;36m<module>\u001b[0;34m()\u001b[0m\n\u001b[0;32m----> 1\u001b[0;31m \u001b[0mPrint\u001b[0m\u001b[0;34m(\u001b[0m\u001b[0;34m\"hey\"\u001b[0m\u001b[0;34m)\u001b[0m\u001b[0;34m\u001b[0m\u001b[0;34m\u001b[0m\u001b[0m\n\u001b[0m",
            "\u001b[0;31mNameError\u001b[0m: name 'Print' is not defined"
          ]
        }
      ]
    },
    {
      "cell_type": "code",
      "source": [
        "print(\"hey\")\n",
        " print(\"hey\")"
      ],
      "metadata": {
        "colab": {
          "base_uri": "https://localhost:8080/",
          "height": 134
        },
        "id": "4asVpKvouSi0",
        "outputId": "b2a4cb93-c0b2-42b2-b72d-92b98d4590af"
      },
      "execution_count": 23,
      "outputs": [
        {
          "output_type": "error",
          "ename": "IndentationError",
          "evalue": "ignored",
          "traceback": [
            "\u001b[0;36m  File \u001b[0;32m\"<ipython-input-23-0ac52d109fa3>\"\u001b[0;36m, line \u001b[0;32m2\u001b[0m\n\u001b[0;31m    print(\"hey\")\u001b[0m\n\u001b[0m    ^\u001b[0m\n\u001b[0;31mIndentationError\u001b[0m\u001b[0;31m:\u001b[0m unexpected indent\n"
          ]
        }
      ]
    },
    {
      "cell_type": "code",
      "source": [
        "print(\"hey\")\n",
        "print(\"hey\")"
      ],
      "metadata": {
        "colab": {
          "base_uri": "https://localhost:8080/"
        },
        "id": "ImG7pe12uaiL",
        "outputId": "7697d1dd-f80d-409e-9ce6-6f9b17903cca"
      },
      "execution_count": 24,
      "outputs": [
        {
          "output_type": "stream",
          "name": "stdout",
          "text": [
            "hey\n",
            "hey\n"
          ]
        }
      ]
    },
    {
      "cell_type": "code",
      "source": [
        " print(\"hey\")\n",
        " print(\"hey\")\n",
        "print(\"hey\")\n"
      ],
      "metadata": {
        "colab": {
          "base_uri": "https://localhost:8080/"
        },
        "id": "yYF-gXpYug7W",
        "outputId": "1a072f88-a2ea-4b91-bc7e-461ce94d8002"
      },
      "execution_count": 25,
      "outputs": [
        {
          "output_type": "stream",
          "name": "stdout",
          "text": [
            "hey\n",
            "hey\n",
            "hey\n"
          ]
        }
      ]
    },
    {
      "cell_type": "code",
      "source": [
        "#...THIS IS A FIRST DAY OF LEARNING PYTHON."
      ],
      "metadata": {
        "id": "ZUwjSiYquyin"
      },
      "execution_count": 33,
      "outputs": []
    },
    {
      "cell_type": "code",
      "source": [
        "#@title Default title text\n",
        "'''THIS IS A FIRST DAY OF LEARNING PYTHON\n",
        "enjoy the session\n",
        "Python is easy\n",
        "'''"
      ],
      "metadata": {
        "colab": {
          "base_uri": "https://localhost:8080/",
          "height": 35
        },
        "id": "RB3qOrEyxuJI",
        "outputId": "e40e2277-6efc-4335-9466-5540c3a88a98"
      },
      "execution_count": 34,
      "outputs": [
        {
          "output_type": "execute_result",
          "data": {
            "text/plain": [
              "'THIS IS A FIRST DAY OF LEARNING PYTHON\\nenjoy the session\\nPython is easy\\n'"
            ],
            "application/vnd.google.colaboratory.intrinsic+json": {
              "type": "string"
            }
          },
          "metadata": {},
          "execution_count": 34
        }
      ]
    },
    {
      "cell_type": "code",
      "source": [
        "# Variables\n",
        "message=\"Please stop WAR!\""
      ],
      "metadata": {
        "id": "EoCa0oHdzKD7"
      },
      "execution_count": 38,
      "outputs": []
    },
    {
      "cell_type": "code",
      "source": [
        "print(message)"
      ],
      "metadata": {
        "colab": {
          "base_uri": "https://localhost:8080/"
        },
        "id": "wf3kAcYJzWS6",
        "outputId": "927a30c1-379e-4d6b-9483-9d67a86144aa"
      },
      "execution_count": 39,
      "outputs": [
        {
          "output_type": "stream",
          "name": "stdout",
          "text": [
            "Please stop WAR!\n"
          ]
        }
      ]
    },
    {
      "cell_type": "code",
      "source": [
        "# Variables\n",
        "message1=\"Please stop WAR!\"\n",
        "message2=\"WAR is not a solution!\"\n",
        "message3=\"Please work for peace!\"\n",
        "print(message1)\n",
        "print(message2)\n",
        "print(message3)"
      ],
      "metadata": {
        "colab": {
          "base_uri": "https://localhost:8080/"
        },
        "id": "6Xb0HEZ7z57N",
        "outputId": "1352a20d-61f3-4005-e3b0-c4bdab7ccc7a"
      },
      "execution_count": 42,
      "outputs": [
        {
          "output_type": "stream",
          "name": "stdout",
          "text": [
            "Please stop WAR!\n",
            "WAR is not a solution!\n",
            "Please work for peace!\n"
          ]
        }
      ]
    },
    {
      "cell_type": "code",
      "source": [
        "print(message1*5)"
      ],
      "metadata": {
        "colab": {
          "base_uri": "https://localhost:8080/"
        },
        "id": "mQZzXgh41RK3",
        "outputId": "965de70a-5e2d-43e9-b136-efeb0bb5aa2d"
      },
      "execution_count": 44,
      "outputs": [
        {
          "output_type": "stream",
          "name": "stdout",
          "text": [
            "Please stop WAR!Please stop WAR!Please stop WAR!Please stop WAR!Please stop WAR!\n"
          ]
        }
      ]
    },
    {
      "cell_type": "code",
      "source": [
        "print(message*5)"
      ],
      "metadata": {
        "colab": {
          "base_uri": "https://localhost:8080/"
        },
        "id": "OgXU4PFM1qmu",
        "outputId": "3d59fe6b-cd38-4cff-a685-3caa7a2b5c73"
      },
      "execution_count": 48,
      "outputs": [
        {
          "output_type": "stream",
          "name": "stdout",
          "text": [
            "Please stop WAR!Please stop WAR!Please stop WAR!Please stop WAR!Please stop WAR!\n"
          ]
        }
      ]
    },
    {
      "cell_type": "code",
      "source": [
        "print(message1,message2,message3)"
      ],
      "metadata": {
        "colab": {
          "base_uri": "https://localhost:8080/"
        },
        "id": "frwQVq7z2H5l",
        "outputId": "31ac7462-b1c1-4af7-ce7e-a8351c45696c"
      },
      "execution_count": 49,
      "outputs": [
        {
          "output_type": "stream",
          "name": "stdout",
          "text": [
            "Please stop WAR! WAR is not a solution! Please work for peace!\n"
          ]
        }
      ]
    },
    {
      "cell_type": "code",
      "source": [
        "# Variables\n",
        "message1=\"Please stop WAR!\"\n",
        "message2=\"WAR is not a solution!\"\n",
        "message3=\"Please work for peace!\"\n",
        "print(message1,message2,message3)\n",
        "# print(message1,message2,message3)"
      ],
      "metadata": {
        "colab": {
          "base_uri": "https://localhost:8080/"
        },
        "id": "K2tXoSBp28_a",
        "outputId": "5fa805dd-21f5-4ba6-b4fa-6da5c336e588"
      },
      "execution_count": 50,
      "outputs": [
        {
          "output_type": "stream",
          "name": "stdout",
          "text": [
            "Please stop WAR! WAR is not a solution! Please work for peace!\n"
          ]
        }
      ]
    },
    {
      "cell_type": "code",
      "source": [
        "num1=10\n",
        "num2=20"
      ],
      "metadata": {
        "id": "ZA9JM-5R35oJ"
      },
      "execution_count": 51,
      "outputs": []
    },
    {
      "cell_type": "code",
      "source": [
        "num1+num2"
      ],
      "metadata": {
        "colab": {
          "base_uri": "https://localhost:8080/"
        },
        "id": "74wV065Y39zO",
        "outputId": "98418e55-bd62-4838-9aa7-b52c381f79eb"
      },
      "execution_count": 52,
      "outputs": [
        {
          "output_type": "execute_result",
          "data": {
            "text/plain": [
              "30"
            ]
          },
          "metadata": {},
          "execution_count": 52
        }
      ]
    },
    {
      "cell_type": "code",
      "source": [
        "num1+message1"
      ],
      "metadata": {
        "colab": {
          "base_uri": "https://localhost:8080/",
          "height": 170
        },
        "id": "z1QZskBa4FIs",
        "outputId": "8158bb10-0796-42e6-e41b-9477ec839755"
      },
      "execution_count": 53,
      "outputs": [
        {
          "output_type": "error",
          "ename": "TypeError",
          "evalue": "ignored",
          "traceback": [
            "\u001b[0;31m---------------------------------------------------------------------------\u001b[0m",
            "\u001b[0;31mTypeError\u001b[0m                                 Traceback (most recent call last)",
            "\u001b[0;32m<ipython-input-53-f4998c7e2d1d>\u001b[0m in \u001b[0;36m<module>\u001b[0;34m()\u001b[0m\n\u001b[0;32m----> 1\u001b[0;31m \u001b[0mnum1\u001b[0m\u001b[0;34m+\u001b[0m\u001b[0mmessage1\u001b[0m\u001b[0;34m\u001b[0m\u001b[0;34m\u001b[0m\u001b[0m\n\u001b[0m",
            "\u001b[0;31mTypeError\u001b[0m: unsupported operand type(s) for +: 'int' and 'str'"
          ]
        }
      ]
    },
    {
      "cell_type": "code",
      "source": [
        "str(num1)+message1"
      ],
      "metadata": {
        "colab": {
          "base_uri": "https://localhost:8080/",
          "height": 35
        },
        "id": "O04ORPFF4M5j",
        "outputId": "66d3a837-3b2c-47cc-dfb2-ff918bbc8655"
      },
      "execution_count": 54,
      "outputs": [
        {
          "output_type": "execute_result",
          "data": {
            "text/plain": [
              "'10Please stop WAR!'"
            ],
            "application/vnd.google.colaboratory.intrinsic+json": {
              "type": "string"
            }
          },
          "metadata": {},
          "execution_count": 54
        }
      ]
    },
    {
      "cell_type": "code",
      "source": [
        "x=input(\"Please enter a number\")\n",
        "print(x*9)\n",
        "print(int(x)*9)"
      ],
      "metadata": {
        "colab": {
          "base_uri": "https://localhost:8080/"
        },
        "id": "f125OTXF5Xir",
        "outputId": "60efde0c-5c0e-46ee-e914-8212b28a5e39"
      },
      "execution_count": 55,
      "outputs": [
        {
          "output_type": "stream",
          "name": "stdout",
          "text": [
            "Please enter a number3\n",
            "333333333\n",
            "27\n"
          ]
        }
      ]
    }
  ]
}